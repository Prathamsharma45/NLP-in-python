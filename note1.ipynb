{
 "cells": [
  {
   "cell_type": "code",
   "execution_count": 1,
   "id": "eaf546c9",
   "metadata": {},
   "outputs": [],
   "source": [
    "import string"
   ]
  },
  {
   "cell_type": "code",
   "execution_count": null,
   "id": "4fb7b0d7",
   "metadata": {},
   "outputs": [],
   "source": [
    "text=\"Hello, World! This is a test string with punctuation@123\"\n",
    "def clean_text(text):\n",
    "    clean_text=''.join(char.lower() for char in text if char not in string.punctuation)\n",
    "    return clean_text\n",
    "cleaned_text = clean_text(text)\n",
    "print(\"Original text:\", text)\n",
    "print(\"cleaned_text\",cleaned_text)"
   ]
  },
  {
   "cell_type": "code",
   "execution_count": null,
   "id": "d1d4e476",
   "metadata": {},
   "outputs": [],
   "source": [
    "\n",
    "x=[{\"id\": 1463, \"name\": \"culture clash\",\"id\": 2964, \"name\": \"future\"}]\n",
    "op=\" \"\n",
    "for i in x:\n",
    "    op+=i['name']\n",
    "print(op)"
   ]
  }
 ],
 "metadata": {
  "kernelspec": {
   "display_name": "Python 3",
   "language": "python",
   "name": "python3"
  },
  "language_info": {
   "codemirror_mode": {
    "name": "ipython",
    "version": 3
   },
   "file_extension": ".py",
   "mimetype": "text/x-python",
   "name": "python",
   "nbconvert_exporter": "python",
   "pygments_lexer": "ipython3",
   "version": "3.13.2"
  }
 },
 "nbformat": 4,
 "nbformat_minor": 5
}
